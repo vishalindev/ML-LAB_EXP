{
  "nbformat": 4,
  "nbformat_minor": 0,
  "metadata": {
    "colab": {
      "name": "ID3_20MCR081_Lab_Pre.ipynb",
      "provenance": []
    },
    "kernelspec": {
      "name": "python3",
      "display_name": "Python 3"
    },
    "language_info": {
      "name": "python"
    }
  },
  "cells": [
    {
      "cell_type": "code",
      "metadata": {
        "id": "5SuZw_6VBHdR"
      },
      "source": [
        "import pandas as pd\n",
        "import numpy as np\n",
        "import sys\n",
        "from pprint import pprint"
      ],
      "execution_count": 40,
      "outputs": []
    },
    {
      "cell_type": "code",
      "metadata": {
        "colab": {
          "base_uri": "https://localhost:8080/",
          "height": 203
        },
        "id": "bC64fsIPCHc1",
        "outputId": "861cd24f-112c-4f6b-f5c1-b5ec8f3c6012"
      },
      "source": [
        " \n",
        "\n",
        "dataset =pd.read_csv('PastHires.csv', header=None, names=[\"Year_Experience\",\"Employed?\", \"Previous_Employed\", \"Level_EMP\", \"Top_Tier_School\", \"Interned\", \"Hired\"])\n",
        "dataset.head()"
      ],
      "execution_count": 41,
      "outputs": [
        {
          "output_type": "execute_result",
          "data": {
            "text/html": [
              "<div>\n",
              "<style scoped>\n",
              "    .dataframe tbody tr th:only-of-type {\n",
              "        vertical-align: middle;\n",
              "    }\n",
              "\n",
              "    .dataframe tbody tr th {\n",
              "        vertical-align: top;\n",
              "    }\n",
              "\n",
              "    .dataframe thead th {\n",
              "        text-align: right;\n",
              "    }\n",
              "</style>\n",
              "<table border=\"1\" class=\"dataframe\">\n",
              "  <thead>\n",
              "    <tr style=\"text-align: right;\">\n",
              "      <th></th>\n",
              "      <th>Year_Experience</th>\n",
              "      <th>Employed?</th>\n",
              "      <th>Previous_Employed</th>\n",
              "      <th>Level_EMP</th>\n",
              "      <th>Top_Tier_School</th>\n",
              "      <th>Interned</th>\n",
              "      <th>Hired</th>\n",
              "    </tr>\n",
              "  </thead>\n",
              "  <tbody>\n",
              "    <tr>\n",
              "      <th>0</th>\n",
              "      <td>ZERO</td>\n",
              "      <td>Y</td>\n",
              "      <td>ZERO</td>\n",
              "      <td>BS</td>\n",
              "      <td>N</td>\n",
              "      <td>N</td>\n",
              "      <td>Y</td>\n",
              "    </tr>\n",
              "    <tr>\n",
              "      <th>1</th>\n",
              "      <td>ZERO</td>\n",
              "      <td>N</td>\n",
              "      <td>ZERO</td>\n",
              "      <td>BS</td>\n",
              "      <td>Y</td>\n",
              "      <td>Y</td>\n",
              "      <td>Y</td>\n",
              "    </tr>\n",
              "    <tr>\n",
              "      <th>2</th>\n",
              "      <td>FIVE</td>\n",
              "      <td>N</td>\n",
              "      <td>FIVE</td>\n",
              "      <td>BS</td>\n",
              "      <td>N</td>\n",
              "      <td>N</td>\n",
              "      <td>N</td>\n",
              "    </tr>\n",
              "    <tr>\n",
              "      <th>3</th>\n",
              "      <td>TWO</td>\n",
              "      <td>Y</td>\n",
              "      <td>TWO</td>\n",
              "      <td>MS</td>\n",
              "      <td>Y</td>\n",
              "      <td>N</td>\n",
              "      <td>Y</td>\n",
              "    </tr>\n",
              "    <tr>\n",
              "      <th>4</th>\n",
              "      <td>TWO</td>\n",
              "      <td>N</td>\n",
              "      <td>TWO</td>\n",
              "      <td>PhD</td>\n",
              "      <td>Y</td>\n",
              "      <td>N</td>\n",
              "      <td>N</td>\n",
              "    </tr>\n",
              "  </tbody>\n",
              "</table>\n",
              "</div>"
            ],
            "text/plain": [
              "  Year_Experience Employed? Previous_Employed  ... Top_Tier_School Interned Hired\n",
              "0            ZERO         Y              ZERO  ...               N        N     Y\n",
              "1            ZERO         N              ZERO  ...               Y        Y     Y\n",
              "2            FIVE         N              FIVE  ...               N        N     N\n",
              "3             TWO         Y               TWO  ...               Y        N     Y\n",
              "4             TWO         N               TWO  ...               Y        N     N\n",
              "\n",
              "[5 rows x 7 columns]"
            ]
          },
          "metadata": {
            "tags": []
          },
          "execution_count": 41
        }
      ]
    },
    {
      "cell_type": "code",
      "metadata": {
        "id": "bEe1eY23CMn7"
      },
      "source": [
        "#====entropy====\n",
        "def entropy(target_col):\n",
        "    elements,counts =np.unique(target_col,return_counts = True)\n",
        "    entropy=np.sum([(-counts[i]/np.sum(counts))*np.log2(counts[i]/np.sum(counts))for i in range(len(elements))])\n",
        "    return entropy"
      ],
      "execution_count": 42,
      "outputs": []
    },
    {
      "cell_type": "code",
      "metadata": {
        "id": "qmARGEk5CPGo"
      },
      "source": [
        "#====infogain====\n",
        "\n",
        "def infoGain(data,split_attribute_name,target_name=\"play\"):\n",
        "    total_entropy=entropy(data[target_name])\n",
        "    vals,counts=np.unique(data[split_attribute_name],return_counts=True)\n",
        "    Weighted_Entropy= np.sum([(counts[i]/np.sum(counts))*entropy(data.where(data[split_attribute_name]==vals[i]).dropna()[target_name]) for i in range (len(vals))])\n",
        "    Information_Gain = total_entropy-Weighted_Entropy\n",
        "    return Information_Gain"
      ],
      "execution_count": 43,
      "outputs": []
    },
    {
      "cell_type": "code",
      "metadata": {
        "id": "dyV5sP4aCRfv"
      },
      "source": [
        "#====ID3====\n",
        "def ID3(data,originaldata,features,target_attribute_name=\"Hired\",parent_node_class=None):\n",
        "    if len(np.unique(data[target_attribute_name]))<=1:\n",
        "        return np.unique(data[target_attribute_name])[0]\n",
        "    elif len(data)==0:\n",
        "        return np.unique(originaldata[target_attribute_name])[np.argmax(np.unique(originaldata[target_attribute_name],return_counts=True)[1])]\n",
        "    elif len(features)==0:\n",
        "        return parent_node_class\n",
        "    else:\n",
        "        parent_node_class=np.unique(data[target_attribute_name])[np.argmax(np.unique(data[target_attribute_name],return_counts=True)[1])]\n",
        "\n",
        "    item_values=[infoGain(data,feature,target_attribute_name)for feature in features]\n",
        "    best_feature_index=np.argmax(item_values)\n",
        "    best_feature=features[best_feature_index]\n",
        "    tree={best_feature:{}}\n",
        "    features=[i for i in features if i!=best_feature]\n",
        "    for value in np.unique(data[best_feature]):\n",
        "        value=value\n",
        "        sub_data=data.where(data[best_feature]==value).dropna()\n",
        "        subtree=ID3(sub_data,dataset,features,target_attribute_name,parent_node_class)\n",
        "        tree[best_feature][value]=subtree\n",
        "    return (tree)"
      ],
      "execution_count": 44,
      "outputs": []
    },
    {
      "cell_type": "code",
      "metadata": {
        "id": "JPfUq0pwChTa"
      },
      "source": [
        "#========\n",
        "def predict(query,tree,default=1):\n",
        "    for key in list(query.keys()):\n",
        "        if key in list(tree.keys()):\n",
        "            try:\n",
        "                result= tree[key][query[key]]\n",
        "            except:\n",
        "                return default\n",
        "            result= tree[key][query[key]]\n",
        "            if isinstance(result,dict):\n",
        "                return predict(query,result)\n",
        "            else:\n",
        "                return result"
      ],
      "execution_count": 45,
      "outputs": []
    },
    {
      "cell_type": "code",
      "metadata": {
        "colab": {
          "base_uri": "https://localhost:8080/"
        },
        "id": "vbmV-J3xClag",
        "outputId": "30a87bcb-55c3-41ab-8990-f6b20f9abda6"
      },
      "source": [
        "#==========           \n",
        "def train_test_split(dataset):\n",
        "    training_data=dataset.iloc[:].reset_index(drop=True)\n",
        "    testing_data=dataset.iloc[11:].reset_index(drop=True)\n",
        "    return training_data,testing_data\n",
        "\n",
        "training_data=train_test_split(dataset)[0]\n",
        "testing_data=train_test_split(dataset)[1]\n",
        "#==========\n",
        "def test(data,tree):\n",
        "    queries=data.iloc[:,:-1].to_dict(orient=\"records\")\n",
        "    \n",
        "    predicted=pd.DataFrame(columns=[\"predicted\"])\n",
        "    \n",
        "    for i in range(len(data)):\n",
        "        predicted.loc[i,\"predicted\"]=predict(queries[i],tree,1.0)\n",
        "    print('The predcition accuracy is:',(np.sum(predicted[\"predicted\"]==data[\"Hired\"])/len(data))*100,'%')\n",
        "        \n",
        "tree=ID3(training_data,training_data,training_data.columns[:-1])\n",
        "pprint(tree)\n",
        "test(testing_data,tree)"
      ],
      "execution_count": 46,
      "outputs": [
        {
          "output_type": "stream",
          "text": [
            "{'Employed?': {'N': {'Interned': {'N': {'Year_Experience': {'FIVE': 'N',\n",
            "                                                            'TWO': 'N',\n",
            "                                                            'ZERO': {'Level_EMP': {'BS': 'N',\n",
            "                                                                                   'PhD': 'Y'}}}},\n",
            "                                  'Y': 'Y'}},\n",
            "               'Y': 'Y'}}\n",
            "The predcition accuracy is: 100.0 %\n"
          ],
          "name": "stdout"
        }
      ]
    }
  ]
}